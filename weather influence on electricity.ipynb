{
 "cells": [
  {
   "cell_type": "markdown",
   "metadata": {},
   "source": [
    "# <span style='color:Blue'> The aim of this task is to load metadata file in an interactive way and to analyze weather influence on electricity consumption  </span>\n",
    "Dataset from: https://www.kaggle.com/claytonmiller/building-data-genome-project-v1"
   ]
  },
  {
   "cell_type": "code",
   "execution_count": 1,
   "metadata": {},
   "outputs": [],
   "source": [
    "import pandas as pd \n",
    "import os\n",
    "import seaborn as sns\n",
    "import matplotlib.pyplot as plt\n",
    "import numpy as np"
   ]
  },
  {
   "cell_type": "code",
   "execution_count": 2,
   "metadata": {},
   "outputs": [],
   "source": [
    "metadata=pd.read_csv(\"meta_open.csv\")"
   ]
  },
  {
   "cell_type": "code",
   "execution_count": 3,
   "metadata": {},
   "outputs": [
    {
     "data": {
      "text/html": [
       "<div>\n",
       "<style scoped>\n",
       "    .dataframe tbody tr th:only-of-type {\n",
       "        vertical-align: middle;\n",
       "    }\n",
       "\n",
       "    .dataframe tbody tr th {\n",
       "        vertical-align: top;\n",
       "    }\n",
       "\n",
       "    .dataframe thead th {\n",
       "        text-align: right;\n",
       "    }\n",
       "</style>\n",
       "<table border=\"1\" class=\"dataframe\">\n",
       "  <thead>\n",
       "    <tr style=\"text-align: right;\">\n",
       "      <th></th>\n",
       "      <th>uid</th>\n",
       "      <th>dataend</th>\n",
       "      <th>datastart</th>\n",
       "      <th>energystarscore</th>\n",
       "      <th>heatingtype</th>\n",
       "      <th>industry</th>\n",
       "      <th>mainheatingtype</th>\n",
       "      <th>numberoffloors</th>\n",
       "      <th>occupants</th>\n",
       "      <th>primaryspaceusage</th>\n",
       "      <th>rating</th>\n",
       "      <th>sqft</th>\n",
       "      <th>sqm</th>\n",
       "      <th>subindustry</th>\n",
       "      <th>timezone</th>\n",
       "      <th>yearbuilt</th>\n",
       "      <th>nickname</th>\n",
       "      <th>primaryspaceuse_abbrev</th>\n",
       "      <th>newweatherfilename</th>\n",
       "      <th>annualschedule</th>\n",
       "    </tr>\n",
       "  </thead>\n",
       "  <tbody>\n",
       "    <tr>\n",
       "      <th>0</th>\n",
       "      <td>Office_Abbey</td>\n",
       "      <td>31/12/2015 23:00</td>\n",
       "      <td>01/01/2015 0:00</td>\n",
       "      <td>NaN</td>\n",
       "      <td>NaN</td>\n",
       "      <td>Education</td>\n",
       "      <td>NaN</td>\n",
       "      <td>NaN</td>\n",
       "      <td>NaN</td>\n",
       "      <td>Office</td>\n",
       "      <td>NaN</td>\n",
       "      <td>74180.0</td>\n",
       "      <td>6891.544540</td>\n",
       "      <td>College/University</td>\n",
       "      <td>America/Phoenix</td>\n",
       "      <td>1930</td>\n",
       "      <td>Abbey</td>\n",
       "      <td>Office</td>\n",
       "      <td>weather0.csv</td>\n",
       "      <td>schedule2.csv</td>\n",
       "    </tr>\n",
       "    <tr>\n",
       "      <th>1</th>\n",
       "      <td>Office_Abigail</td>\n",
       "      <td>31/12/2015 23:00</td>\n",
       "      <td>01/01/2015 0:00</td>\n",
       "      <td>NaN</td>\n",
       "      <td>NaN</td>\n",
       "      <td>Education</td>\n",
       "      <td>NaN</td>\n",
       "      <td>NaN</td>\n",
       "      <td>NaN</td>\n",
       "      <td>Office</td>\n",
       "      <td>NaN</td>\n",
       "      <td>9703.0</td>\n",
       "      <td>901.437809</td>\n",
       "      <td>College/University</td>\n",
       "      <td>America/Phoenix</td>\n",
       "      <td>1940</td>\n",
       "      <td>Abigail</td>\n",
       "      <td>Office</td>\n",
       "      <td>weather0.csv</td>\n",
       "      <td>schedule2.csv</td>\n",
       "    </tr>\n",
       "    <tr>\n",
       "      <th>2</th>\n",
       "      <td>Office_Al</td>\n",
       "      <td>31/12/2015 23:00</td>\n",
       "      <td>01/01/2015 0:00</td>\n",
       "      <td>NaN</td>\n",
       "      <td>NaN</td>\n",
       "      <td>Education</td>\n",
       "      <td>NaN</td>\n",
       "      <td>NaN</td>\n",
       "      <td>NaN</td>\n",
       "      <td>Office</td>\n",
       "      <td>NaN</td>\n",
       "      <td>118966.0</td>\n",
       "      <td>11052.298300</td>\n",
       "      <td>College/University</td>\n",
       "      <td>America/Phoenix</td>\n",
       "      <td>1988</td>\n",
       "      <td>Al</td>\n",
       "      <td>Office</td>\n",
       "      <td>weather0.csv</td>\n",
       "      <td>schedule2.csv</td>\n",
       "    </tr>\n",
       "    <tr>\n",
       "      <th>3</th>\n",
       "      <td>Office_Alannah</td>\n",
       "      <td>31/12/2015 23:00</td>\n",
       "      <td>01/01/2015 0:00</td>\n",
       "      <td>NaN</td>\n",
       "      <td>NaN</td>\n",
       "      <td>Education</td>\n",
       "      <td>NaN</td>\n",
       "      <td>NaN</td>\n",
       "      <td>NaN</td>\n",
       "      <td>Office</td>\n",
       "      <td>NaN</td>\n",
       "      <td>10135.0</td>\n",
       "      <td>941.571905</td>\n",
       "      <td>College/University</td>\n",
       "      <td>America/Phoenix</td>\n",
       "      <td>NaN</td>\n",
       "      <td>Alannah</td>\n",
       "      <td>Office</td>\n",
       "      <td>weather0.csv</td>\n",
       "      <td>schedule2.csv</td>\n",
       "    </tr>\n",
       "    <tr>\n",
       "      <th>4</th>\n",
       "      <td>Office_Aliyah</td>\n",
       "      <td>31/12/2015 23:00</td>\n",
       "      <td>01/01/2015 0:00</td>\n",
       "      <td>NaN</td>\n",
       "      <td>NaN</td>\n",
       "      <td>Education</td>\n",
       "      <td>NaN</td>\n",
       "      <td>NaN</td>\n",
       "      <td>NaN</td>\n",
       "      <td>Office</td>\n",
       "      <td>NaN</td>\n",
       "      <td>202435.0</td>\n",
       "      <td>18806.818810</td>\n",
       "      <td>College/University</td>\n",
       "      <td>America/Phoenix</td>\n",
       "      <td>1967</td>\n",
       "      <td>Aliyah</td>\n",
       "      <td>Office</td>\n",
       "      <td>weather0.csv</td>\n",
       "      <td>schedule2.csv</td>\n",
       "    </tr>\n",
       "  </tbody>\n",
       "</table>\n",
       "</div>"
      ],
      "text/plain": [
       "              uid           dataend        datastart  energystarscore  \\\n",
       "0    Office_Abbey  31/12/2015 23:00  01/01/2015 0:00              NaN   \n",
       "1  Office_Abigail  31/12/2015 23:00  01/01/2015 0:00              NaN   \n",
       "2       Office_Al  31/12/2015 23:00  01/01/2015 0:00              NaN   \n",
       "3  Office_Alannah  31/12/2015 23:00  01/01/2015 0:00              NaN   \n",
       "4   Office_Aliyah  31/12/2015 23:00  01/01/2015 0:00              NaN   \n",
       "\n",
       "  heatingtype   industry mainheatingtype  numberoffloors  occupants  \\\n",
       "0         NaN  Education             NaN             NaN        NaN   \n",
       "1         NaN  Education             NaN             NaN        NaN   \n",
       "2         NaN  Education             NaN             NaN        NaN   \n",
       "3         NaN  Education             NaN             NaN        NaN   \n",
       "4         NaN  Education             NaN             NaN        NaN   \n",
       "\n",
       "  primaryspaceusage rating      sqft           sqm         subindustry  \\\n",
       "0            Office    NaN   74180.0   6891.544540  College/University   \n",
       "1            Office    NaN    9703.0    901.437809  College/University   \n",
       "2            Office    NaN  118966.0  11052.298300  College/University   \n",
       "3            Office    NaN   10135.0    941.571905  College/University   \n",
       "4            Office    NaN  202435.0  18806.818810  College/University   \n",
       "\n",
       "          timezone yearbuilt nickname primaryspaceuse_abbrev  \\\n",
       "0  America/Phoenix      1930    Abbey                 Office   \n",
       "1  America/Phoenix      1940  Abigail                 Office   \n",
       "2  America/Phoenix      1988       Al                 Office   \n",
       "3  America/Phoenix       NaN  Alannah                 Office   \n",
       "4  America/Phoenix      1967   Aliyah                 Office   \n",
       "\n",
       "  newweatherfilename annualschedule  \n",
       "0       weather0.csv  schedule2.csv  \n",
       "1       weather0.csv  schedule2.csv  \n",
       "2       weather0.csv  schedule2.csv  \n",
       "3       weather0.csv  schedule2.csv  \n",
       "4       weather0.csv  schedule2.csv  "
      ]
     },
     "execution_count": 3,
     "metadata": {},
     "output_type": "execute_result"
    }
   ],
   "source": [
    "metadata.head()"
   ]
  },
  {
   "cell_type": "code",
   "execution_count": 6,
   "metadata": {},
   "outputs": [],
   "source": [
    "Timezone_data={'America/New_York','Europe/London','America/Phoenix','America/Chicago','America/Los_Angeles','Europe/Zurich','Asia/Singapore','America/Denver'}\n",
    "Industry_data={'Education','Government','Commercial Property'}"
   ]
  },
  {
   "cell_type": "code",
   "execution_count": 7,
   "metadata": {},
   "outputs": [
    {
     "name": "stdout",
     "output_type": "stream",
     "text": [
      "please enter Time zone America/Chicago\n"
     ]
    }
   ],
   "source": [
    "while True :\n",
    "    Timezone=str(input(\"please enter Time zone \"))\n",
    "    if Timezone not in Timezone_data:   \n",
    "        print(\"\\nInvalid answer\\n\")\n",
    "        continue\n",
    "    else:\n",
    "            break"
   ]
  },
  {
   "cell_type": "code",
   "execution_count": 8,
   "metadata": {},
   "outputs": [
    {
     "name": "stdout",
     "output_type": "stream",
     "text": [
      "please enter Industry name Education\n"
     ]
    }
   ],
   "source": [
    "while True :\n",
    "    Industry=str(input(\"please enter Industry name \"))\n",
    "    if Industry not in Industry_data:   \n",
    "        print(\"\\nInvalid answer\\n\")\n",
    "        continue\n",
    "    else:\n",
    "            break               "
   ]
  },
  {
   "cell_type": "code",
   "execution_count": 9,
   "metadata": {},
   "outputs": [
    {
     "data": {
      "text/html": [
       "<div>\n",
       "<style scoped>\n",
       "    .dataframe tbody tr th:only-of-type {\n",
       "        vertical-align: middle;\n",
       "    }\n",
       "\n",
       "    .dataframe tbody tr th {\n",
       "        vertical-align: top;\n",
       "    }\n",
       "\n",
       "    .dataframe thead th {\n",
       "        text-align: right;\n",
       "    }\n",
       "</style>\n",
       "<table border=\"1\" class=\"dataframe\">\n",
       "  <thead>\n",
       "    <tr style=\"text-align: right;\">\n",
       "      <th></th>\n",
       "      <th>uid</th>\n",
       "      <th>nickname</th>\n",
       "      <th>newweatherfilename</th>\n",
       "    </tr>\n",
       "  </thead>\n",
       "  <tbody>\n",
       "    <tr>\n",
       "      <th>90</th>\n",
       "      <td>Office_Mada</td>\n",
       "      <td>Mada</td>\n",
       "      <td>weather3.csv</td>\n",
       "    </tr>\n",
       "    <tr>\n",
       "      <th>91</th>\n",
       "      <td>Office_Madeleine</td>\n",
       "      <td>Madeleine</td>\n",
       "      <td>weather3.csv</td>\n",
       "    </tr>\n",
       "    <tr>\n",
       "      <th>92</th>\n",
       "      <td>Office_Madisyn</td>\n",
       "      <td>Madisyn</td>\n",
       "      <td>weather3.csv</td>\n",
       "    </tr>\n",
       "    <tr>\n",
       "      <th>93</th>\n",
       "      <td>Office_Malik</td>\n",
       "      <td>Malik</td>\n",
       "      <td>weather3.csv</td>\n",
       "    </tr>\n",
       "    <tr>\n",
       "      <th>94</th>\n",
       "      <td>Office_Marc</td>\n",
       "      <td>Marc</td>\n",
       "      <td>weather3.csv</td>\n",
       "    </tr>\n",
       "    <tr>\n",
       "      <th>...</th>\n",
       "      <td>...</td>\n",
       "      <td>...</td>\n",
       "      <td>...</td>\n",
       "    </tr>\n",
       "    <tr>\n",
       "      <th>484</th>\n",
       "      <td>UnivLab_Marie</td>\n",
       "      <td>Marie</td>\n",
       "      <td>weather3.csv</td>\n",
       "    </tr>\n",
       "    <tr>\n",
       "      <th>485</th>\n",
       "      <td>UnivLab_Mario</td>\n",
       "      <td>Mario</td>\n",
       "      <td>weather3.csv</td>\n",
       "    </tr>\n",
       "    <tr>\n",
       "      <th>486</th>\n",
       "      <td>UnivLab_Marshall</td>\n",
       "      <td>Marshall</td>\n",
       "      <td>weather3.csv</td>\n",
       "    </tr>\n",
       "    <tr>\n",
       "      <th>487</th>\n",
       "      <td>UnivLab_Miles</td>\n",
       "      <td>Miles</td>\n",
       "      <td>weather3.csv</td>\n",
       "    </tr>\n",
       "    <tr>\n",
       "      <th>488</th>\n",
       "      <td>UnivLab_Neil</td>\n",
       "      <td>Neil</td>\n",
       "      <td>weather9.csv</td>\n",
       "    </tr>\n",
       "  </tbody>\n",
       "</table>\n",
       "<p>75 rows × 3 columns</p>\n",
       "</div>"
      ],
      "text/plain": [
       "                  uid   nickname newweatherfilename\n",
       "90        Office_Mada       Mada       weather3.csv\n",
       "91   Office_Madeleine  Madeleine       weather3.csv\n",
       "92     Office_Madisyn    Madisyn       weather3.csv\n",
       "93       Office_Malik      Malik       weather3.csv\n",
       "94        Office_Marc       Marc       weather3.csv\n",
       "..                ...        ...                ...\n",
       "484     UnivLab_Marie      Marie       weather3.csv\n",
       "485     UnivLab_Mario      Mario       weather3.csv\n",
       "486  UnivLab_Marshall   Marshall       weather3.csv\n",
       "487     UnivLab_Miles      Miles       weather3.csv\n",
       "488      UnivLab_Neil       Neil       weather9.csv\n",
       "\n",
       "[75 rows x 3 columns]"
      ]
     },
     "execution_count": 9,
     "metadata": {},
     "output_type": "execute_result"
    }
   ],
   "source": [
    "filtered_metadata = metadata.loc[(metadata['timezone']==Timezone)&(metadata['industry']==Industry)]\n",
    "filtered_metadata[['uid','nickname','newweatherfilename']]"
   ]
  },
  {
   "cell_type": "code",
   "execution_count": 10,
   "metadata": {},
   "outputs": [
    {
     "data": {
      "text/plain": [
       "90          Office_Mada\n",
       "91     Office_Madeleine\n",
       "92       Office_Madisyn\n",
       "93         Office_Malik\n",
       "94          Office_Marc\n",
       "             ...       \n",
       "484       UnivLab_Marie\n",
       "485       UnivLab_Mario\n",
       "486    UnivLab_Marshall\n",
       "487       UnivLab_Miles\n",
       "488        UnivLab_Neil\n",
       "Name: uid, Length: 75, dtype: object"
      ]
     },
     "execution_count": 10,
     "metadata": {},
     "output_type": "execute_result"
    }
   ],
   "source": [
    "filtered_metadata.uid"
   ]
  },
  {
   "cell_type": "code",
   "execution_count": 15,
   "metadata": {},
   "outputs": [],
   "source": [
    "# let us go for univDorm_April \n",
    "\n",
    "building_file=filtered_metadata['uid'].values[0]+'.csv' # choose the first building\n",
    "\n",
    "building_data=pd.read_csv(\"{}\".format(building_file)) # let us load the filtered office file \n",
    "\n",
    "weather_file=filtered_metadata['newweatherfilename'].values[0]\n",
    "weather_data=pd.read_csv(\"{}\".format(weather_file))  # let us load the weather file "
   ]
  },
  {
   "cell_type": "code",
   "execution_count": 16,
   "metadata": {},
   "outputs": [
    {
     "data": {
      "text/html": [
       "<div>\n",
       "<style scoped>\n",
       "    .dataframe tbody tr th:only-of-type {\n",
       "        vertical-align: middle;\n",
       "    }\n",
       "\n",
       "    .dataframe tbody tr th {\n",
       "        vertical-align: top;\n",
       "    }\n",
       "\n",
       "    .dataframe thead th {\n",
       "        text-align: right;\n",
       "    }\n",
       "</style>\n",
       "<table border=\"1\" class=\"dataframe\">\n",
       "  <thead>\n",
       "    <tr style=\"text-align: right;\">\n",
       "      <th></th>\n",
       "      <th>timestamp</th>\n",
       "      <th>Office_Mada</th>\n",
       "    </tr>\n",
       "  </thead>\n",
       "  <tbody>\n",
       "    <tr>\n",
       "      <th>0</th>\n",
       "      <td>2014-05-01 00:00:00</td>\n",
       "      <td>46.50</td>\n",
       "    </tr>\n",
       "    <tr>\n",
       "      <th>1</th>\n",
       "      <td>2014-05-01 01:00:00</td>\n",
       "      <td>43.50</td>\n",
       "    </tr>\n",
       "    <tr>\n",
       "      <th>2</th>\n",
       "      <td>2014-05-01 02:00:00</td>\n",
       "      <td>45.00</td>\n",
       "    </tr>\n",
       "    <tr>\n",
       "      <th>3</th>\n",
       "      <td>2014-05-01 03:00:00</td>\n",
       "      <td>45.75</td>\n",
       "    </tr>\n",
       "    <tr>\n",
       "      <th>4</th>\n",
       "      <td>2014-05-01 04:00:00</td>\n",
       "      <td>45.25</td>\n",
       "    </tr>\n",
       "  </tbody>\n",
       "</table>\n",
       "</div>"
      ],
      "text/plain": [
       "             timestamp  Office_Mada\n",
       "0  2014-05-01 00:00:00        46.50\n",
       "1  2014-05-01 01:00:00        43.50\n",
       "2  2014-05-01 02:00:00        45.00\n",
       "3  2014-05-01 03:00:00        45.75\n",
       "4  2014-05-01 04:00:00        45.25"
      ]
     },
     "execution_count": 16,
     "metadata": {},
     "output_type": "execute_result"
    }
   ],
   "source": [
    "# Visual assesment \n",
    "#let us visually asses the office file for quality and tidy issues \n",
    "building_data.head()\n",
    "\n"
   ]
  },
  {
   "cell_type": "code",
   "execution_count": 17,
   "metadata": {},
   "outputs": [
    {
     "name": "stdout",
     "output_type": "stream",
     "text": [
      "<class 'pandas.core.frame.DataFrame'>\n",
      "RangeIndex: 8760 entries, 0 to 8759\n",
      "Data columns (total 2 columns):\n",
      " #   Column       Non-Null Count  Dtype  \n",
      "---  ------       --------------  -----  \n",
      " 0   timestamp    8760 non-null   object \n",
      " 1   Office_Mada  8760 non-null   float64\n",
      "dtypes: float64(1), object(1)\n",
      "memory usage: 137.0+ KB\n"
     ]
    }
   ],
   "source": [
    "#check for timestamp column type \n",
    "building_data.info()"
   ]
  },
  {
   "cell_type": "code",
   "execution_count": 18,
   "metadata": {},
   "outputs": [],
   "source": [
    "#it seems that the timestamp type isnot of a date type & Also the Kilowatt column isn't named properly \n",
    "building_data['timestamp']=pd.to_datetime(building_data['timestamp']) # convert to datetime\n",
    "building_data.columns=['timestamp','Kilowatt'] #rename columns "
   ]
  },
  {
   "cell_type": "code",
   "execution_count": 19,
   "metadata": {},
   "outputs": [
    {
     "name": "stdout",
     "output_type": "stream",
     "text": [
      "<class 'pandas.core.frame.DataFrame'>\n",
      "RangeIndex: 8760 entries, 0 to 8759\n",
      "Data columns (total 2 columns):\n",
      " #   Column     Non-Null Count  Dtype         \n",
      "---  ------     --------------  -----         \n",
      " 0   timestamp  8760 non-null   datetime64[ns]\n",
      " 1   Kilowatt   8760 non-null   float64       \n",
      "dtypes: datetime64[ns](1), float64(1)\n",
      "memory usage: 137.0 KB\n"
     ]
    }
   ],
   "source": [
    "building_data.info()#test"
   ]
  },
  {
   "cell_type": "code",
   "execution_count": 21,
   "metadata": {},
   "outputs": [
    {
     "data": {
      "text/html": [
       "<div>\n",
       "<style scoped>\n",
       "    .dataframe tbody tr th:only-of-type {\n",
       "        vertical-align: middle;\n",
       "    }\n",
       "\n",
       "    .dataframe tbody tr th {\n",
       "        vertical-align: top;\n",
       "    }\n",
       "\n",
       "    .dataframe thead th {\n",
       "        text-align: right;\n",
       "    }\n",
       "</style>\n",
       "<table border=\"1\" class=\"dataframe\">\n",
       "  <thead>\n",
       "    <tr style=\"text-align: right;\">\n",
       "      <th></th>\n",
       "      <th>timestamp</th>\n",
       "      <th>Conditions</th>\n",
       "      <th>DateUTC&lt;br /&gt;</th>\n",
       "      <th>Dew PointC</th>\n",
       "      <th>Events</th>\n",
       "      <th>Gust SpeedKm/h</th>\n",
       "      <th>Humidity</th>\n",
       "      <th>Precipitationmm</th>\n",
       "      <th>Sea Level PressurehPa</th>\n",
       "      <th>TemperatureC</th>\n",
       "      <th>TimeCDT</th>\n",
       "      <th>TimeCST</th>\n",
       "      <th>VisibilityKm</th>\n",
       "      <th>Wind Direction</th>\n",
       "      <th>Wind SpeedKm/h</th>\n",
       "      <th>WindDirDegrees</th>\n",
       "      <th>timestamp.1</th>\n",
       "    </tr>\n",
       "  </thead>\n",
       "  <tbody>\n",
       "    <tr>\n",
       "      <th>0</th>\n",
       "      <td>2014-05-01 00:53:00</td>\n",
       "      <td>Light Drizzle</td>\n",
       "      <td>2014-05-01 05:53:00&lt;br /&gt;</td>\n",
       "      <td>3.9</td>\n",
       "      <td>NaN</td>\n",
       "      <td>-</td>\n",
       "      <td>100.0</td>\n",
       "      <td>0.0</td>\n",
       "      <td>1007.3</td>\n",
       "      <td>3.9</td>\n",
       "      <td>12:53 AM</td>\n",
       "      <td>NaN</td>\n",
       "      <td>6.4</td>\n",
       "      <td>NNW</td>\n",
       "      <td>18.5</td>\n",
       "      <td>330</td>\n",
       "      <td>2014-05-01 00:53:00</td>\n",
       "    </tr>\n",
       "    <tr>\n",
       "      <th>1</th>\n",
       "      <td>2014-05-01 01:01:00</td>\n",
       "      <td>Overcast</td>\n",
       "      <td>2014-05-01 06:01:00&lt;br /&gt;</td>\n",
       "      <td>3.9</td>\n",
       "      <td>NaN</td>\n",
       "      <td>-</td>\n",
       "      <td>100.0</td>\n",
       "      <td>0.0</td>\n",
       "      <td>1006.7</td>\n",
       "      <td>3.9</td>\n",
       "      <td>1:01 AM</td>\n",
       "      <td>NaN</td>\n",
       "      <td>8.0</td>\n",
       "      <td>NNW</td>\n",
       "      <td>18.5</td>\n",
       "      <td>330</td>\n",
       "      <td>2014-05-01 01:01:00</td>\n",
       "    </tr>\n",
       "    <tr>\n",
       "      <th>2</th>\n",
       "      <td>2014-05-01 01:10:00</td>\n",
       "      <td>Overcast</td>\n",
       "      <td>2014-05-01 06:10:00&lt;br /&gt;</td>\n",
       "      <td>3.9</td>\n",
       "      <td>NaN</td>\n",
       "      <td>-</td>\n",
       "      <td>100.0</td>\n",
       "      <td>0.0</td>\n",
       "      <td>1006.7</td>\n",
       "      <td>3.9</td>\n",
       "      <td>1:10 AM</td>\n",
       "      <td>NaN</td>\n",
       "      <td>12.9</td>\n",
       "      <td>NW</td>\n",
       "      <td>18.5</td>\n",
       "      <td>320</td>\n",
       "      <td>2014-05-01 01:10:00</td>\n",
       "    </tr>\n",
       "    <tr>\n",
       "      <th>3</th>\n",
       "      <td>2014-05-01 01:19:00</td>\n",
       "      <td>Overcast</td>\n",
       "      <td>2014-05-01 06:19:00&lt;br /&gt;</td>\n",
       "      <td>3.9</td>\n",
       "      <td>NaN</td>\n",
       "      <td>-</td>\n",
       "      <td>100.0</td>\n",
       "      <td>0.0</td>\n",
       "      <td>1006.7</td>\n",
       "      <td>3.9</td>\n",
       "      <td>1:19 AM</td>\n",
       "      <td>NaN</td>\n",
       "      <td>14.5</td>\n",
       "      <td>NNW</td>\n",
       "      <td>20.4</td>\n",
       "      <td>340</td>\n",
       "      <td>2014-05-01 01:19:00</td>\n",
       "    </tr>\n",
       "    <tr>\n",
       "      <th>4</th>\n",
       "      <td>2014-05-01 01:29:00</td>\n",
       "      <td>Overcast</td>\n",
       "      <td>2014-05-01 06:29:00&lt;br /&gt;</td>\n",
       "      <td>3.3</td>\n",
       "      <td>NaN</td>\n",
       "      <td>-</td>\n",
       "      <td>93.0</td>\n",
       "      <td>0.0</td>\n",
       "      <td>1006.3</td>\n",
       "      <td>4.4</td>\n",
       "      <td>1:29 AM</td>\n",
       "      <td>NaN</td>\n",
       "      <td>16.1</td>\n",
       "      <td>NNW</td>\n",
       "      <td>16.7</td>\n",
       "      <td>330</td>\n",
       "      <td>2014-05-01 01:29:00</td>\n",
       "    </tr>\n",
       "  </tbody>\n",
       "</table>\n",
       "</div>"
      ],
      "text/plain": [
       "             timestamp     Conditions              DateUTC<br />  Dew PointC  \\\n",
       "0  2014-05-01 00:53:00  Light Drizzle  2014-05-01 05:53:00<br />         3.9   \n",
       "1  2014-05-01 01:01:00       Overcast  2014-05-01 06:01:00<br />         3.9   \n",
       "2  2014-05-01 01:10:00       Overcast  2014-05-01 06:10:00<br />         3.9   \n",
       "3  2014-05-01 01:19:00       Overcast  2014-05-01 06:19:00<br />         3.9   \n",
       "4  2014-05-01 01:29:00       Overcast  2014-05-01 06:29:00<br />         3.3   \n",
       "\n",
       "  Events Gust SpeedKm/h  Humidity  Precipitationmm  Sea Level PressurehPa  \\\n",
       "0    NaN              -     100.0              0.0                 1007.3   \n",
       "1    NaN              -     100.0              0.0                 1006.7   \n",
       "2    NaN              -     100.0              0.0                 1006.7   \n",
       "3    NaN              -     100.0              0.0                 1006.7   \n",
       "4    NaN              -      93.0              0.0                 1006.3   \n",
       "\n",
       "   TemperatureC   TimeCDT TimeCST  VisibilityKm Wind Direction Wind SpeedKm/h  \\\n",
       "0           3.9  12:53 AM     NaN           6.4            NNW           18.5   \n",
       "1           3.9   1:01 AM     NaN           8.0            NNW           18.5   \n",
       "2           3.9   1:10 AM     NaN          12.9             NW           18.5   \n",
       "3           3.9   1:19 AM     NaN          14.5            NNW           20.4   \n",
       "4           4.4   1:29 AM     NaN          16.1            NNW           16.7   \n",
       "\n",
       "   WindDirDegrees          timestamp.1  \n",
       "0             330  2014-05-01 00:53:00  \n",
       "1             330  2014-05-01 01:01:00  \n",
       "2             320  2014-05-01 01:10:00  \n",
       "3             340  2014-05-01 01:19:00  \n",
       "4             330  2014-05-01 01:29:00  "
      ]
     },
     "execution_count": 21,
     "metadata": {},
     "output_type": "execute_result"
    }
   ],
   "source": [
    "# let us visually asses the weather data file for quality & tidness issues \n",
    "weather_data.head()"
   ]
  },
  {
   "cell_type": "markdown",
   "metadata": {},
   "source": [
    "Quality issues \n",
    "<br>\n",
    "1)Timestamp type shall be changed to datetime \n",
    "<br>\n",
    "2)There are unwanted columns that shall be dropped as we are interested only in temperature , humidity and time \n",
    "\n",
    "Tidy issues : \n",
    "<br>\n",
    "1) The two datasets shall be merged in one set. \n"
   ]
  },
  {
   "cell_type": "code",
   "execution_count": 24,
   "metadata": {},
   "outputs": [],
   "source": [
    "weather_data['timestamp']=pd.to_datetime(weather_data['timestamp']) # convert to datetime"
   ]
  },
  {
   "cell_type": "code",
   "execution_count": 25,
   "metadata": {},
   "outputs": [],
   "source": [
    "weather_data=weather_data[['timestamp','TemperatureC','Humidity']] #use only needed columns "
   ]
  },
  {
   "cell_type": "code",
   "execution_count": 27,
   "metadata": {},
   "outputs": [
    {
     "name": "stdout",
     "output_type": "stream",
     "text": [
      "<class 'pandas.core.frame.DataFrame'>\n",
      "RangeIndex: 10810 entries, 0 to 10809\n",
      "Data columns (total 3 columns):\n",
      " #   Column        Non-Null Count  Dtype         \n",
      "---  ------        --------------  -----         \n",
      " 0   timestamp     10810 non-null  datetime64[ns]\n",
      " 1   TemperatureC  10810 non-null  float64       \n",
      " 2   Humidity      10809 non-null  float64       \n",
      "dtypes: datetime64[ns](1), float64(2)\n",
      "memory usage: 253.5 KB\n"
     ]
    }
   ],
   "source": [
    "weather_data.info() # Test"
   ]
  },
  {
   "cell_type": "code",
   "execution_count": 28,
   "metadata": {},
   "outputs": [],
   "source": [
    "#Resample the data , it is essential to resample the data before merging the two data frames\n",
    "\n",
    "weather_data=weather_data.set_index('timestamp') # set the time stamp column as the index. \n"
   ]
  },
  {
   "cell_type": "code",
   "execution_count": 29,
   "metadata": {},
   "outputs": [],
   "source": [
    "weather_data=weather_data.resample('H').mean()   # resample the data hourly "
   ]
  },
  {
   "cell_type": "code",
   "execution_count": 30,
   "metadata": {},
   "outputs": [
    {
     "name": "stdout",
     "output_type": "stream",
     "text": [
      "<class 'pandas.core.frame.DataFrame'>\n",
      "DatetimeIndex: 8760 entries, 2014-05-01 00:00:00 to 2015-04-30 23:00:00\n",
      "Freq: H\n",
      "Data columns (total 2 columns):\n",
      " #   Column        Non-Null Count  Dtype  \n",
      "---  ------        --------------  -----  \n",
      " 0   TemperatureC  8721 non-null   float64\n",
      " 1   Humidity      8721 non-null   float64\n",
      "dtypes: float64(2)\n",
      "memory usage: 205.3 KB\n"
     ]
    }
   ],
   "source": [
    "weather_data.info() #test"
   ]
  },
  {
   "cell_type": "code",
   "execution_count": 31,
   "metadata": {},
   "outputs": [],
   "source": [
    "building_data=building_data.set_index('timestamp') # set the time stamp column as the index. \n"
   ]
  },
  {
   "cell_type": "code",
   "execution_count": 32,
   "metadata": {},
   "outputs": [],
   "source": [
    "building_data=building_data.resample('H').mean() # resample the data hourly "
   ]
  },
  {
   "cell_type": "code",
   "execution_count": 33,
   "metadata": {},
   "outputs": [
    {
     "name": "stdout",
     "output_type": "stream",
     "text": [
      "<class 'pandas.core.frame.DataFrame'>\n",
      "DatetimeIndex: 8760 entries, 2014-05-01 00:00:00 to 2015-04-30 23:00:00\n",
      "Freq: H\n",
      "Data columns (total 1 columns):\n",
      " #   Column    Non-Null Count  Dtype  \n",
      "---  ------    --------------  -----  \n",
      " 0   Kilowatt  8759 non-null   float64\n",
      "dtypes: float64(1)\n",
      "memory usage: 136.9 KB\n"
     ]
    }
   ],
   "source": [
    "building_data.info()  # test"
   ]
  },
  {
   "cell_type": "code",
   "execution_count": 34,
   "metadata": {},
   "outputs": [],
   "source": [
    "#concat the two datasets in one dataframe "
   ]
  },
  {
   "cell_type": "code",
   "execution_count": 76,
   "metadata": {},
   "outputs": [
    {
     "data": {
      "text/html": [
       "<div>\n",
       "<style scoped>\n",
       "    .dataframe tbody tr th:only-of-type {\n",
       "        vertical-align: middle;\n",
       "    }\n",
       "\n",
       "    .dataframe tbody tr th {\n",
       "        vertical-align: top;\n",
       "    }\n",
       "\n",
       "    .dataframe thead th {\n",
       "        text-align: right;\n",
       "    }\n",
       "</style>\n",
       "<table border=\"1\" class=\"dataframe\">\n",
       "  <thead>\n",
       "    <tr style=\"text-align: right;\">\n",
       "      <th></th>\n",
       "      <th>Kilowatt</th>\n",
       "      <th>TemperatureC</th>\n",
       "      <th>Humidity</th>\n",
       "    </tr>\n",
       "    <tr>\n",
       "      <th>timestamp</th>\n",
       "      <th></th>\n",
       "      <th></th>\n",
       "      <th></th>\n",
       "    </tr>\n",
       "  </thead>\n",
       "  <tbody>\n",
       "    <tr>\n",
       "      <th>2015-04-30 19:00:00</th>\n",
       "      <td>79.50</td>\n",
       "      <td>17.8</td>\n",
       "      <td>24.0</td>\n",
       "    </tr>\n",
       "    <tr>\n",
       "      <th>2015-04-30 20:00:00</th>\n",
       "      <td>57.50</td>\n",
       "      <td>16.1</td>\n",
       "      <td>26.0</td>\n",
       "    </tr>\n",
       "    <tr>\n",
       "      <th>2015-04-30 21:00:00</th>\n",
       "      <td>52.25</td>\n",
       "      <td>13.9</td>\n",
       "      <td>32.0</td>\n",
       "    </tr>\n",
       "    <tr>\n",
       "      <th>2015-04-30 22:00:00</th>\n",
       "      <td>47.25</td>\n",
       "      <td>12.8</td>\n",
       "      <td>35.0</td>\n",
       "    </tr>\n",
       "    <tr>\n",
       "      <th>2015-04-30 23:00:00</th>\n",
       "      <td>41.25</td>\n",
       "      <td>13.9</td>\n",
       "      <td>34.0</td>\n",
       "    </tr>\n",
       "  </tbody>\n",
       "</table>\n",
       "</div>"
      ],
      "text/plain": [
       "                     Kilowatt  TemperatureC  Humidity\n",
       "timestamp                                            \n",
       "2015-04-30 19:00:00     79.50          17.8      24.0\n",
       "2015-04-30 20:00:00     57.50          16.1      26.0\n",
       "2015-04-30 21:00:00     52.25          13.9      32.0\n",
       "2015-04-30 22:00:00     47.25          12.8      35.0\n",
       "2015-04-30 23:00:00     41.25          13.9      34.0"
      ]
     },
     "execution_count": 76,
     "metadata": {},
     "output_type": "execute_result"
    }
   ],
   "source": [
    "building_data_clean=pd.merge(building_data,weather_data,how='left',on='timestamp') # Merge data\n",
    "building_data_clean.tail() #test"
   ]
  },
  {
   "cell_type": "markdown",
   "metadata": {},
   "source": [
    "# Section two : \n",
    "\n",
    "## Data visualization \n",
    "\n",
    "We will visualize the data in year 2014 "
   ]
  },
  {
   "cell_type": "code",
   "execution_count": 60,
   "metadata": {},
   "outputs": [
    {
     "data": {
      "text/html": [
       "<div>\n",
       "<style scoped>\n",
       "    .dataframe tbody tr th:only-of-type {\n",
       "        vertical-align: middle;\n",
       "    }\n",
       "\n",
       "    .dataframe tbody tr th {\n",
       "        vertical-align: top;\n",
       "    }\n",
       "\n",
       "    .dataframe thead th {\n",
       "        text-align: right;\n",
       "    }\n",
       "</style>\n",
       "<table border=\"1\" class=\"dataframe\">\n",
       "  <thead>\n",
       "    <tr style=\"text-align: right;\">\n",
       "      <th></th>\n",
       "      <th>Kilowatt</th>\n",
       "      <th>TemperatureC</th>\n",
       "      <th>Humidity</th>\n",
       "    </tr>\n",
       "    <tr>\n",
       "      <th>timestamp</th>\n",
       "      <th></th>\n",
       "      <th></th>\n",
       "      <th></th>\n",
       "    </tr>\n",
       "  </thead>\n",
       "  <tbody>\n",
       "    <tr>\n",
       "      <th>2014-05-01 00:00:00</th>\n",
       "      <td>46.50</td>\n",
       "      <td>3.90</td>\n",
       "      <td>100.0</td>\n",
       "    </tr>\n",
       "    <tr>\n",
       "      <th>2014-05-01 01:00:00</th>\n",
       "      <td>43.50</td>\n",
       "      <td>4.15</td>\n",
       "      <td>96.5</td>\n",
       "    </tr>\n",
       "    <tr>\n",
       "      <th>2014-05-01 02:00:00</th>\n",
       "      <td>45.00</td>\n",
       "      <td>3.90</td>\n",
       "      <td>100.0</td>\n",
       "    </tr>\n",
       "    <tr>\n",
       "      <th>2014-05-01 03:00:00</th>\n",
       "      <td>45.75</td>\n",
       "      <td>3.60</td>\n",
       "      <td>96.5</td>\n",
       "    </tr>\n",
       "    <tr>\n",
       "      <th>2014-05-01 04:00:00</th>\n",
       "      <td>45.25</td>\n",
       "      <td>3.30</td>\n",
       "      <td>97.0</td>\n",
       "    </tr>\n",
       "    <tr>\n",
       "      <th>...</th>\n",
       "      <td>...</td>\n",
       "      <td>...</td>\n",
       "      <td>...</td>\n",
       "    </tr>\n",
       "    <tr>\n",
       "      <th>2014-12-30 20:00:00</th>\n",
       "      <td>64.75</td>\n",
       "      <td>-19.40</td>\n",
       "      <td>72.0</td>\n",
       "    </tr>\n",
       "    <tr>\n",
       "      <th>2014-12-30 21:00:00</th>\n",
       "      <td>59.75</td>\n",
       "      <td>-19.40</td>\n",
       "      <td>72.0</td>\n",
       "    </tr>\n",
       "    <tr>\n",
       "      <th>2014-12-30 22:00:00</th>\n",
       "      <td>59.00</td>\n",
       "      <td>-21.10</td>\n",
       "      <td>79.0</td>\n",
       "    </tr>\n",
       "    <tr>\n",
       "      <th>2014-12-30 23:00:00</th>\n",
       "      <td>58.00</td>\n",
       "      <td>-21.10</td>\n",
       "      <td>79.0</td>\n",
       "    </tr>\n",
       "    <tr>\n",
       "      <th>2014-12-31 00:00:00</th>\n",
       "      <td>58.00</td>\n",
       "      <td>-21.10</td>\n",
       "      <td>79.0</td>\n",
       "    </tr>\n",
       "  </tbody>\n",
       "</table>\n",
       "<p>5857 rows × 3 columns</p>\n",
       "</div>"
      ],
      "text/plain": [
       "                     Kilowatt  TemperatureC  Humidity\n",
       "timestamp                                            \n",
       "2014-05-01 00:00:00     46.50          3.90     100.0\n",
       "2014-05-01 01:00:00     43.50          4.15      96.5\n",
       "2014-05-01 02:00:00     45.00          3.90     100.0\n",
       "2014-05-01 03:00:00     45.75          3.60      96.5\n",
       "2014-05-01 04:00:00     45.25          3.30      97.0\n",
       "...                       ...           ...       ...\n",
       "2014-12-30 20:00:00     64.75        -19.40      72.0\n",
       "2014-12-30 21:00:00     59.75        -19.40      72.0\n",
       "2014-12-30 22:00:00     59.00        -21.10      79.0\n",
       "2014-12-30 23:00:00     58.00        -21.10      79.0\n",
       "2014-12-31 00:00:00     58.00        -21.10      79.0\n",
       "\n",
       "[5857 rows x 3 columns]"
      ]
     },
     "execution_count": 60,
     "metadata": {},
     "output_type": "execute_result"
    }
   ],
   "source": [
    "building_data_2014=building_data_clean.truncate(before='2014-01-01',after='2014-12-31') # Truncate the dataset\n",
    "building_data_2014  #test"
   ]
  },
  {
   "cell_type": "code",
   "execution_count": 61,
   "metadata": {},
   "outputs": [],
   "source": [
    "building_data_monthly_2014=building_data_2014.resample('M').mean() #Resample the data monthly "
   ]
  },
  {
   "cell_type": "code",
   "execution_count": 62,
   "metadata": {},
   "outputs": [
    {
     "data": {
      "text/plain": [
       "timestamp\n",
       "2014-05-31    62.138105\n",
       "2014-06-30    69.722563\n",
       "2014-07-31    63.504996\n",
       "2014-08-31    71.470296\n",
       "2014-09-30    68.505556\n",
       "2014-10-31    66.044448\n",
       "2014-11-30    72.534640\n",
       "2014-12-31    80.032178\n",
       "Freq: M, Name: Humidity, dtype: float64"
      ]
     },
     "execution_count": 62,
     "metadata": {},
     "output_type": "execute_result"
    }
   ],
   "source": [
    "building_data_monthly_2014.Humidity"
   ]
  },
  {
   "cell_type": "code",
   "execution_count": 63,
   "metadata": {},
   "outputs": [],
   "source": [
    "#Talk about humidity effect ...etc"
   ]
  },
  {
   "cell_type": "code",
   "execution_count": 69,
   "metadata": {},
   "outputs": [],
   "source": [
    "def Humidity_rank(x):\n",
    "    if x<50:\n",
    "        return \"Low\"\n",
    "    elif 50<x<65:\n",
    "        return \"Average\"\n",
    "    elif x>65:\n",
    "        return \"High\"\n",
    "    \n",
    "    "
   ]
  },
  {
   "cell_type": "code",
   "execution_count": 70,
   "metadata": {},
   "outputs": [],
   "source": [
    "building_data_monthly_2014['Humidity_rank'] = building_data_monthly_2014.Humidity.apply(lambda x: Humidity_rank(x))"
   ]
  },
  {
   "cell_type": "code",
   "execution_count": 71,
   "metadata": {},
   "outputs": [
    {
     "data": {
      "text/html": [
       "<div>\n",
       "<style scoped>\n",
       "    .dataframe tbody tr th:only-of-type {\n",
       "        vertical-align: middle;\n",
       "    }\n",
       "\n",
       "    .dataframe tbody tr th {\n",
       "        vertical-align: top;\n",
       "    }\n",
       "\n",
       "    .dataframe thead th {\n",
       "        text-align: right;\n",
       "    }\n",
       "</style>\n",
       "<table border=\"1\" class=\"dataframe\">\n",
       "  <thead>\n",
       "    <tr style=\"text-align: right;\">\n",
       "      <th></th>\n",
       "      <th>Kilowatt</th>\n",
       "      <th>TemperatureC</th>\n",
       "      <th>Humidity</th>\n",
       "      <th>Humidity_rank</th>\n",
       "    </tr>\n",
       "    <tr>\n",
       "      <th>timestamp</th>\n",
       "      <th></th>\n",
       "      <th></th>\n",
       "      <th></th>\n",
       "      <th></th>\n",
       "    </tr>\n",
       "  </thead>\n",
       "  <tbody>\n",
       "    <tr>\n",
       "      <th>2014-05-31</th>\n",
       "      <td>68.136761</td>\n",
       "      <td>14.953629</td>\n",
       "      <td>62.138105</td>\n",
       "      <td>Average</td>\n",
       "    </tr>\n",
       "    <tr>\n",
       "      <th>2014-06-30</th>\n",
       "      <td>71.557292</td>\n",
       "      <td>20.747565</td>\n",
       "      <td>69.722563</td>\n",
       "      <td>High</td>\n",
       "    </tr>\n",
       "    <tr>\n",
       "      <th>2014-07-31</th>\n",
       "      <td>74.298051</td>\n",
       "      <td>22.042751</td>\n",
       "      <td>63.504996</td>\n",
       "      <td>Average</td>\n",
       "    </tr>\n",
       "    <tr>\n",
       "      <th>2014-08-31</th>\n",
       "      <td>72.184812</td>\n",
       "      <td>22.641517</td>\n",
       "      <td>71.470296</td>\n",
       "      <td>High</td>\n",
       "    </tr>\n",
       "    <tr>\n",
       "      <th>2014-09-30</th>\n",
       "      <td>73.343403</td>\n",
       "      <td>16.762269</td>\n",
       "      <td>68.505556</td>\n",
       "      <td>High</td>\n",
       "    </tr>\n",
       "  </tbody>\n",
       "</table>\n",
       "</div>"
      ],
      "text/plain": [
       "             Kilowatt  TemperatureC   Humidity Humidity_rank\n",
       "timestamp                                                   \n",
       "2014-05-31  68.136761     14.953629  62.138105       Average\n",
       "2014-06-30  71.557292     20.747565  69.722563          High\n",
       "2014-07-31  74.298051     22.042751  63.504996       Average\n",
       "2014-08-31  72.184812     22.641517  71.470296          High\n",
       "2014-09-30  73.343403     16.762269  68.505556          High"
      ]
     },
     "execution_count": 71,
     "metadata": {},
     "output_type": "execute_result"
    }
   ],
   "source": [
    "building_data_monthly_2014.head()"
   ]
  },
  {
   "cell_type": "code",
   "execution_count": 73,
   "metadata": {},
   "outputs": [
    {
     "data": {
      "text/plain": [
       "<matplotlib.axes._subplots.AxesSubplot at 0x1cf956d1b20>"
      ]
     },
     "execution_count": 73,
     "metadata": {},
     "output_type": "execute_result"
    },
    {
     "data": {
      "image/png": "[encoded data removed]",
      "text/plain": [
       "<Figure size 432x288 with 1 Axes>"
      ]
     },
     "metadata": {
      "needs_background": "light"
     },
     "output_type": "display_data"
    }
   ],
   "source": [
    "sns.scatterplot(data=building_data_monthly_2014,x=\"TemperatureC\",y=\"Kilowatt\",hue=\"Humidity_rank\")"
   ]
  },
  {
   "cell_type": "markdown",
   "metadata": {},
   "source": [
    "## In temperature range between 20 and 30 degrees we notice that at approximately equal temperatures, the energy consumption increases as the humidity increases. "
   ]
  }
 ],
 "metadata": {
  "kernelspec": {
   "display_name": "Python 3",
   "language": "python",
   "name": "python3"
  },
  "language_info": {
   "codemirror_mode": {
    "name": "ipython",
    "version": 3
   },
   "file_extension": ".py",
   "mimetype": "text/x-python",
   "name": "python",
   "nbconvert_exporter": "python",
   "pygments_lexer": "ipython3",
   "version": "3.8.3"
  }
 },
 "nbformat": 4,
 "nbformat_minor": 4
}
